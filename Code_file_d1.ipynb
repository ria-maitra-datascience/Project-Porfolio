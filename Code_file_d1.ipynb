{
  "nbformat": 4,
  "nbformat_minor": 0,
  "metadata": {
    "colab": {
      "name": "Code_file_d1",
      "provenance": [],
      "collapsed_sections": [],
      "mount_file_id": "10afJQ6mQ7mtE28Rz7C6CDD7OcJqKLTAm",
      "authorship_tag": "ABX9TyPvDDEZPA5ZspwgHno8HUqK",
      "include_colab_link": true
    },
    "kernelspec": {
      "display_name": "Python 3",
      "name": "python3"
    }
  },
  "cells": [
    {
      "cell_type": "markdown",
      "metadata": {
        "id": "view-in-github",
        "colab_type": "text"
      },
      "source": [
        "<a href=\"https://colab.research.google.com/github/ria1994maitra/Project-Porfolio/blob/main/Code_file_d1.ipynb\" target=\"_parent\"><img src=\"https://colab.research.google.com/assets/colab-badge.svg\" alt=\"Open In Colab\"/></a>"
      ]
    },
    {
      "cell_type": "markdown",
      "metadata": {
        "id": "mSt9QF17dH87"
      },
      "source": [
        "#Contents"
      ]
    },
    {
      "cell_type": "markdown",
      "metadata": {
        "id": "nffOlWWbdMve"
      },
      "source": [
        "* Health Insurance Lead Prediction\r\n",
        "* Problem Definition\r\n",
        "* Data Analysis (EDA)\r\n",
        "* Pre-processing Pipeline\r\n",
        "* Building Machine Learning Models\r\n",
        "* Conclusion"
      ]
    },
    {
      "cell_type": "markdown",
      "metadata": {
        "id": "XQz5sL1gd3Xq"
      },
      "source": [
        "#Health Insurance Lead Prediction\r\n",
        "\r\n",
        "FinMan is a financial services company that provides various financial services like loan, investment funds, insurance etc. to its customers. FinMan wishes to cross-sell health insurance to the existing customers who may or may not hold insurance policies with the company. The company recommend health insurance to it's customers based on their profile once these customers land on the website. Customers might browse the recommended health insurance policy and consequently fill up a form to apply. When these customers fill-up the form, their Response towards the policy is considered positive and they are classified as a lead.\r\n",
        "\r\n",
        "Once these leads are acquired, the sales advisors approach them to convert and thus the company can sell proposed health insurance to these leads in a more efficient manner."
      ]
    },
    {
      "cell_type": "markdown",
      "metadata": {
        "id": "gZq564_be6r6"
      },
      "source": [
        "#Problem Statement\r\n",
        "\r\n",
        "the company needs a model to predict whether the person will be interested in their proposed Health plan/policy given the information about:\r\n",
        "\r\n",
        "Demographics (city, age, region etc.)\r\n",
        "Information regarding holding policies of the customer\r\n",
        "Recommended Policy Information"
      ]
    },
    {
      "cell_type": "markdown",
      "metadata": {
        "id": "hKlVuPwleNZH"
      },
      "source": [
        "# Exploratory Data Analysis(EDA)"
      ]
    },
    {
      "cell_type": "code",
      "metadata": {
        "id": "D6nM7MwHdKw1"
      },
      "source": [
        "#Importing required Libraries\r\n",
        "\r\n",
        "import pandas as pd\r\n",
        "import re\r\n",
        "import numpy as np\r\n",
        "import seaborn as sns\r\n",
        "import matplotlib.pyplot as plt\r\n",
        "from sklearn.preprocessing import LabelEncoder\r\n",
        "from sklearn.linear_model import LogisticRegression\r\n",
        "from sklearn.metrics import accuracy_score, confusion_matrix,classification_report\r\n",
        "from sklearn.model_selection import train_test_split\r\n",
        "import warnings\r\n",
        "warnings.filterwarnings('ignore')"
      ],
      "execution_count": null,
      "outputs": []
    },
    {
      "cell_type": "code",
      "metadata": {
        "id": "gRsElv8erj6k"
      },
      "source": [
        "#Importing train and test datasets\r\n",
        "train=pd.read_csv('/content/drive/MyDrive/Job-a-Thon@Analytic_vidhya/train1.csv')\r\n",
        "test=pd.read_csv('/content/drive/MyDrive/Job-a-Thon@Analytic_vidhya/test1.csv')"
      ],
      "execution_count": null,
      "outputs": []
    },
    {
      "cell_type": "code",
      "metadata": {
        "colab": {
          "base_uri": "https://localhost:8080/"
        },
        "id": "u_SswJZjr2PH",
        "outputId": "5983a769-b316-4be9-cdd3-e2e3021c524e"
      },
      "source": [
        "# Checking Data size and its data type\r\n",
        "train.shape,test.shape"
      ],
      "execution_count": null,
      "outputs": [
        {
          "output_type": "execute_result",
          "data": {
            "text/plain": [
              "((50882, 14), (21805, 13))"
            ]
          },
          "metadata": {
            "tags": []
          },
          "execution_count": 62
        }
      ]
    },
    {
      "cell_type": "code",
      "metadata": {
        "colab": {
          "base_uri": "https://localhost:8080/"
        },
        "id": "-ZIEvR91sN6t",
        "outputId": "2787ab52-0f02-4407-d2e4-09c86d855faf"
      },
      "source": [
        "# Checking Value counts of each columns\r\n",
        "collist=train.columns.values\r\n",
        "for i in range (0,len(collist)):\r\n",
        "  print(train[collist[i]].value_counts())"
      ],
      "execution_count": null,
      "outputs": [
        {
          "output_type": "stream",
          "text": [
            "2047     1\n",
            "21151    1\n",
            "17053    1\n",
            "19100    1\n",
            "29339    1\n",
            "        ..\n",
            "23905    1\n",
            "21856    1\n",
            "44351    1\n",
            "42302    1\n",
            "2049     1\n",
            "Name: ID, Length: 50882, dtype: int64\n",
            "C1     8973\n",
            "C2     7747\n",
            "C3     4889\n",
            "C4     3671\n",
            "C9     2185\n",
            "C6     1950\n",
            "C7     1910\n",
            "C8     1806\n",
            "C10    1611\n",
            "C5     1364\n",
            "C15    1186\n",
            "C17    1159\n",
            "C11    1147\n",
            "C16    1135\n",
            "C13    1005\n",
            "C20     926\n",
            "C19     899\n",
            "C12     868\n",
            "C18     797\n",
            "C14     746\n",
            "C21     679\n",
            "C23     587\n",
            "C24     553\n",
            "C22     516\n",
            "C26     499\n",
            "C29     387\n",
            "C25     366\n",
            "C27     295\n",
            "C33     286\n",
            "C28     285\n",
            "C32     160\n",
            "C34     130\n",
            "C30      58\n",
            "C35      56\n",
            "C36      36\n",
            "C31      15\n",
            "Name: City_Code, dtype: int64\n",
            "1       96\n",
            "5       75\n",
            "2       73\n",
            "6       73\n",
            "4       73\n",
            "        ..\n",
            "5548     1\n",
            "5671     1\n",
            "5639     1\n",
            "5686     1\n",
            "5524     1\n",
            "Name: Region_Code, Length: 5316, dtype: int64\n",
            "Owned     27951\n",
            "Rented    22931\n",
            "Name: Accomodation_Type, dtype: int64\n",
            "Individual    40536\n",
            "Joint         10346\n",
            "Name: Reco_Insurance_Type, dtype: int64\n",
            "75    2982\n",
            "23    1671\n",
            "24    1652\n",
            "25    1644\n",
            "22    1563\n",
            "26    1461\n",
            "27    1246\n",
            "28    1198\n",
            "21    1128\n",
            "29     994\n",
            "30     975\n",
            "32     911\n",
            "31     896\n",
            "52     881\n",
            "55     878\n",
            "48     860\n",
            "43     833\n",
            "54     825\n",
            "42     823\n",
            "33     817\n",
            "56     816\n",
            "44     814\n",
            "46     810\n",
            "53     809\n",
            "58     806\n",
            "35     806\n",
            "34     805\n",
            "51     804\n",
            "50     797\n",
            "57     792\n",
            "45     791\n",
            "41     783\n",
            "47     783\n",
            "49     781\n",
            "61     768\n",
            "59     767\n",
            "60     761\n",
            "20     758\n",
            "65     756\n",
            "66     751\n",
            "38     749\n",
            "63     744\n",
            "37     733\n",
            "36     729\n",
            "40     728\n",
            "62     723\n",
            "64     712\n",
            "39     689\n",
            "70     666\n",
            "67     614\n",
            "69     597\n",
            "71     576\n",
            "68     545\n",
            "19     515\n",
            "72     512\n",
            "73     492\n",
            "74     446\n",
            "18     116\n",
            "Name: Upper_Age, dtype: int64\n",
            "75    2213\n",
            "23    1840\n",
            "25    1783\n",
            "24    1775\n",
            "22    1727\n",
            "26    1571\n",
            "27    1343\n",
            "21    1341\n",
            "28    1310\n",
            "29    1080\n",
            "30    1031\n",
            "20     985\n",
            "32     958\n",
            "31     948\n",
            "33     896\n",
            "55     845\n",
            "35     843\n",
            "34     835\n",
            "52     819\n",
            "48     784\n",
            "43     762\n",
            "51     760\n",
            "58     759\n",
            "56     759\n",
            "50     757\n",
            "53     756\n",
            "42     753\n",
            "19     753\n",
            "46     751\n",
            "57     746\n",
            "37     745\n",
            "47     744\n",
            "44     739\n",
            "41     737\n",
            "45     734\n",
            "65     733\n",
            "62     732\n",
            "38     729\n",
            "36     729\n",
            "49     727\n",
            "54     721\n",
            "60     719\n",
            "40     712\n",
            "66     708\n",
            "61     700\n",
            "59     690\n",
            "39     678\n",
            "63     675\n",
            "64     664\n",
            "70     587\n",
            "69     540\n",
            "71     528\n",
            "67     520\n",
            "68     514\n",
            "73     431\n",
            "72     420\n",
            "74     395\n",
            "18     359\n",
            "16     283\n",
            "17     206\n",
            "Name: Lower_Age, dtype: int64\n",
            "No     42460\n",
            "Yes     8422\n",
            "Name: Is_Spouse, dtype: int64\n",
            "X1    13010\n",
            "X2    10332\n",
            "X3     6762\n",
            "X4     5743\n",
            "X5     1727\n",
            "X6     1280\n",
            "X7      196\n",
            "X8       78\n",
            "X9       63\n",
            "Name: Health Indicator, dtype: int64\n",
            "1.0     4499\n",
            "14+     4335\n",
            "2.0     4260\n",
            "3.0     3586\n",
            "4.0     2771\n",
            "5.0     2362\n",
            "6.0     1894\n",
            "7.0     1645\n",
            "8.0     1316\n",
            "9.0     1114\n",
            "10.0     813\n",
            "11.0     546\n",
            "12.0     513\n",
            "13.0     511\n",
            "14.0     466\n",
            "Name: Holding_Policy_Duration, dtype: int64\n",
            "3.0    13279\n",
            "1.0     8173\n",
            "2.0     5005\n",
            "4.0     4174\n",
            "Name: Holding_Policy_Type, dtype: int64\n",
            "22    6602\n",
            "18    5553\n",
            "21    5027\n",
            "16    4084\n",
            "17    3756\n",
            "19    3708\n",
            "20    3177\n",
            "12    2168\n",
            "1     1967\n",
            "2     1917\n",
            "14    1742\n",
            "13    1684\n",
            "15    1615\n",
            "3     1059\n",
            "4     1015\n",
            "5     1007\n",
            "6      851\n",
            "7      834\n",
            "9      789\n",
            "11     781\n",
            "8      776\n",
            "10     770\n",
            "Name: Reco_Policy_Cat, dtype: int64\n",
            "10080.0    61\n",
            "11880.0    59\n",
            "12060.0    58\n",
            "9296.0     56\n",
            "11520.0    54\n",
            "           ..\n",
            "21918.0     1\n",
            "23331.0     1\n",
            "4336.0      1\n",
            "31404.8     1\n",
            "17955.0     1\n",
            "Name: Reco_Policy_Premium, Length: 6977, dtype: int64\n",
            "0    38673\n",
            "1    12209\n",
            "Name: Response, dtype: int64\n"
          ],
          "name": "stdout"
        }
      ]
    },
    {
      "cell_type": "code",
      "metadata": {
        "id": "SymidJ_yQEh-"
      },
      "source": [
        "# Visualizing counts of categorical variables for train data\r\n",
        "train_cat=train[['City_Code','Region_Code','Accomodation_Type','Reco_Insurance_Type','Is_Spouse','Health Indicator','Holding_Policy_Type','Reco_Policy_Cat']]\r\n",
        "collist=train_cat.columns.values\r\n",
        "ncol=2\r\n",
        "nrows=8"
      ],
      "execution_count": null,
      "outputs": []
    },
    {
      "cell_type": "code",
      "metadata": {
        "colab": {
          "base_uri": "https://localhost:8080/",
          "height": 863
        },
        "id": "eric0YX0QKXL",
        "outputId": "0c223c68-33c4-4405-989d-195863fa405c"
      },
      "source": [
        "plt.figure(figsize=(10,30))\r\n",
        "for i in range (0,len(collist)):\r\n",
        "    plt.subplot(nrows,ncol,i+1)\r\n",
        "    sns.countplot(x=train_cat[collist[i]],data=train_cat)"
      ],
      "execution_count": null,
      "outputs": [
        {
          "output_type": "display_data",
          "data": {
            "image/png": "[encoded data removed]",
            "text/plain": [
              "<Figure size 720x2160 with 8 Axes>"
            ]
          },
          "metadata": {
            "tags": [],
            "needs_background": "light"
          }
        }
      ]
    },
    {
      "cell_type": "markdown",
      "metadata": {
        "id": "zbOeMgoe5_wq"
      },
      "source": [
        "####**Observations:**\r\n",
        "* There are total 36 types city codes\r\n",
        "* There are total 5316 types region codes\r\n",
        "* Two types of accodomation type,Owned and Rented, Owned type is more \r\n",
        "* Two types of recommended insurance type,Individual and Joint, Individual is more in number\r\n",
        "* Two types of is_spouse, No and Yes, No is more in number\r\n",
        "* There total 9 types of Health Indicator, X1 type is highest in number where as X9 is lowest in number.\r\n",
        "* Holding Policy Duration ranges from 1 years to 14 years and 14+ years. It is interesting to note the highest number of frequency is 1 year but also the second highest is 14+ years.\r\n",
        "* There are total 4 types of Holding Policy Type, highest is 3 type is number and 4 is lowest in number\r\n",
        "* There are total 22 Reco Policy category, highest is 22nd policy and lowest is 10th policy in number.\r\n"
      ]
    },
    {
      "cell_type": "code",
      "metadata": {
        "id": "5HJRJQZ7Ayqc"
      },
      "source": [
        "# Removing decimal points and +\r\n",
        "def clean_Dura(x):\r\n",
        "  x=re.sub('[0-9][0-9][+]','15',str(x))\r\n",
        "  x=re.sub('[.][0-9]','',x)\r\n",
        "\r\n",
        "  return x"
      ],
      "execution_count": null,
      "outputs": []
    },
    {
      "cell_type": "code",
      "metadata": {
        "id": "4bXRsSpYBHfJ"
      },
      "source": [
        "# Train Data\r\n",
        "train_deci=train[['Holding_Policy_Duration','Reco_Policy_Premium','Holding_Policy_Type']]\r\n",
        "collist=train_deci.columns.values\r\n",
        "for i in range (0,len(collist)):\r\n",
        "  train[collist[i]] = train[collist[i]].apply(lambda x: clean_Dura(x))\r\n"
      ],
      "execution_count": null,
      "outputs": []
    },
    {
      "cell_type": "code",
      "metadata": {
        "id": "eoJrqhB6Dgif"
      },
      "source": [
        "# Test Data\r\n",
        "test_deci=test[['Holding_Policy_Duration','Reco_Policy_Premium','Holding_Policy_Type']]\r\n",
        "collist=test_deci.columns.values\r\n",
        "for i in range (0,len(collist)):\r\n",
        "  test[collist[i]] = test[collist[i]].apply(lambda x: clean_Dura(x))\r\n"
      ],
      "execution_count": null,
      "outputs": []
    },
    {
      "cell_type": "code",
      "metadata": {
        "id": "2Uz1ubhgKQ3h"
      },
      "source": [
        "# Visualizing Skewness of continuous variables for train data\r\n",
        "train_num=train[['Upper_Age','Lower_Age','Holding_Policy_Duration','Reco_Policy_Premium']]\r\n",
        "collist=train_num.columns.values\r\n",
        "ncol=2\r\n",
        "nrows=4"
      ],
      "execution_count": null,
      "outputs": []
    },
    {
      "cell_type": "code",
      "metadata": {
        "colab": {
          "base_uri": "https://localhost:8080/",
          "height": 583
        },
        "id": "6HQHD0UJKVDk",
        "outputId": "9ad5c792-3393-48dc-db71-150103b881f8"
      },
      "source": [
        "plt.figure(figsize=(10,20))\r\n",
        "for i in range (0,len(collist)):\r\n",
        "    plt.subplot(nrows,ncol,i+1)\r\n",
        "    sns.distplot(train_num[collist[i]])"
      ],
      "execution_count": null,
      "outputs": [
        {
          "output_type": "display_data",
          "data": {
            "image/png": "[encoded data removed]",
            "text/plain": [
              "<Figure size 720x1440 with 4 Axes>"
            ]
          },
          "metadata": {
            "tags": [],
            "needs_background": "light"
          }
        }
      ]
    },
    {
      "cell_type": "markdown",
      "metadata": {
        "id": "KLyPG2P5UeDK"
      },
      "source": [
        "#### **Observations:**\r\n",
        "* Upper age ranges between 20 years to 75 years\r\n",
        "* Lower age ranges between 18 years to 75 years\r\n",
        "* Holding Policy Duration is right skewed\r\n",
        "* Reco Policy Premium is right skewed"
      ]
    },
    {
      "cell_type": "code",
      "metadata": {
        "colab": {
          "base_uri": "https://localhost:8080/"
        },
        "id": "zX_e9LxgKZZ_",
        "outputId": "12733f4d-9629-40cd-96af-08b1ea84fac4"
      },
      "source": [
        "# Checking null values\r\n",
        "train.isnull().sum()"
      ],
      "execution_count": null,
      "outputs": [
        {
          "output_type": "execute_result",
          "data": {
            "text/plain": [
              "ID                             0\n",
              "City_Code                      0\n",
              "Region_Code                    0\n",
              "Accomodation_Type              0\n",
              "Reco_Insurance_Type            0\n",
              "Upper_Age                      0\n",
              "Lower_Age                      0\n",
              "Is_Spouse                      0\n",
              "Health Indicator           11691\n",
              "Holding_Policy_Duration        0\n",
              "Holding_Policy_Type            0\n",
              "Reco_Policy_Cat                0\n",
              "Reco_Policy_Premium            0\n",
              "Response                       0\n",
              "dtype: int64"
            ]
          },
          "metadata": {
            "tags": []
          },
          "execution_count": 61
        }
      ]
    },
    {
      "cell_type": "code",
      "metadata": {
        "colab": {
          "base_uri": "https://localhost:8080/",
          "height": 239
        },
        "id": "D2R-ztacKeGE",
        "outputId": "5d89ea1a-5183-4d73-d55c-1c2ca5e49ec6"
      },
      "source": [
        "train.head()"
      ],
      "execution_count": null,
      "outputs": [
        {
          "output_type": "execute_result",
          "data": {
            "text/html": [
              "<div>\n",
              "<style scoped>\n",
              "    .dataframe tbody tr th:only-of-type {\n",
              "        vertical-align: middle;\n",
              "    }\n",
              "\n",
              "    .dataframe tbody tr th {\n",
              "        vertical-align: top;\n",
              "    }\n",
              "\n",
              "    .dataframe thead th {\n",
              "        text-align: right;\n",
              "    }\n",
              "</style>\n",
              "<table border=\"1\" class=\"dataframe\">\n",
              "  <thead>\n",
              "    <tr style=\"text-align: right;\">\n",
              "      <th></th>\n",
              "      <th>ID</th>\n",
              "      <th>City_Code</th>\n",
              "      <th>Region_Code</th>\n",
              "      <th>Accomodation_Type</th>\n",
              "      <th>Reco_Insurance_Type</th>\n",
              "      <th>Upper_Age</th>\n",
              "      <th>Lower_Age</th>\n",
              "      <th>Is_Spouse</th>\n",
              "      <th>Health Indicator</th>\n",
              "      <th>Holding_Policy_Duration</th>\n",
              "      <th>Holding_Policy_Type</th>\n",
              "      <th>Reco_Policy_Cat</th>\n",
              "      <th>Reco_Policy_Premium</th>\n",
              "      <th>Response</th>\n",
              "    </tr>\n",
              "  </thead>\n",
              "  <tbody>\n",
              "    <tr>\n",
              "      <th>0</th>\n",
              "      <td>1</td>\n",
              "      <td>C3</td>\n",
              "      <td>3213</td>\n",
              "      <td>Rented</td>\n",
              "      <td>Individual</td>\n",
              "      <td>36</td>\n",
              "      <td>36</td>\n",
              "      <td>No</td>\n",
              "      <td>X1</td>\n",
              "      <td>15</td>\n",
              "      <td>3</td>\n",
              "      <td>22</td>\n",
              "      <td>11628</td>\n",
              "      <td>0</td>\n",
              "    </tr>\n",
              "    <tr>\n",
              "      <th>1</th>\n",
              "      <td>2</td>\n",
              "      <td>C5</td>\n",
              "      <td>1117</td>\n",
              "      <td>Owned</td>\n",
              "      <td>Joint</td>\n",
              "      <td>75</td>\n",
              "      <td>22</td>\n",
              "      <td>No</td>\n",
              "      <td>X2</td>\n",
              "      <td>nan</td>\n",
              "      <td>nan</td>\n",
              "      <td>22</td>\n",
              "      <td>30510</td>\n",
              "      <td>0</td>\n",
              "    </tr>\n",
              "    <tr>\n",
              "      <th>2</th>\n",
              "      <td>3</td>\n",
              "      <td>C5</td>\n",
              "      <td>3732</td>\n",
              "      <td>Owned</td>\n",
              "      <td>Individual</td>\n",
              "      <td>32</td>\n",
              "      <td>32</td>\n",
              "      <td>No</td>\n",
              "      <td>NaN</td>\n",
              "      <td>1</td>\n",
              "      <td>1</td>\n",
              "      <td>19</td>\n",
              "      <td>7450</td>\n",
              "      <td>1</td>\n",
              "    </tr>\n",
              "    <tr>\n",
              "      <th>3</th>\n",
              "      <td>4</td>\n",
              "      <td>C24</td>\n",
              "      <td>4378</td>\n",
              "      <td>Owned</td>\n",
              "      <td>Joint</td>\n",
              "      <td>52</td>\n",
              "      <td>48</td>\n",
              "      <td>No</td>\n",
              "      <td>X1</td>\n",
              "      <td>15</td>\n",
              "      <td>3</td>\n",
              "      <td>19</td>\n",
              "      <td>17780</td>\n",
              "      <td>0</td>\n",
              "    </tr>\n",
              "    <tr>\n",
              "      <th>4</th>\n",
              "      <td>5</td>\n",
              "      <td>C8</td>\n",
              "      <td>2190</td>\n",
              "      <td>Rented</td>\n",
              "      <td>Individual</td>\n",
              "      <td>44</td>\n",
              "      <td>44</td>\n",
              "      <td>No</td>\n",
              "      <td>X2</td>\n",
              "      <td>3</td>\n",
              "      <td>1</td>\n",
              "      <td>16</td>\n",
              "      <td>10404</td>\n",
              "      <td>0</td>\n",
              "    </tr>\n",
              "  </tbody>\n",
              "</table>\n",
              "</div>"
            ],
            "text/plain": [
              "   ID City_Code  Region_Code  ... Reco_Policy_Cat Reco_Policy_Premium  Response\n",
              "0   1        C3         3213  ...              22               11628         0\n",
              "1   2        C5         1117  ...              22               30510         0\n",
              "2   3        C5         3732  ...              19                7450         1\n",
              "3   4       C24         4378  ...              19               17780         0\n",
              "4   5        C8         2190  ...              16               10404         0\n",
              "\n",
              "[5 rows x 14 columns]"
            ]
          },
          "metadata": {
            "tags": []
          },
          "execution_count": 63
        }
      ]
    },
    {
      "cell_type": "markdown",
      "metadata": {
        "id": "HD5CYV5eVRk_"
      },
      "source": [
        "#### **Observation:**\r\n",
        "* Holding Policy Duration and Holding Policy type also contains null values in the form of nan."
      ]
    },
    {
      "cell_type": "code",
      "metadata": {
        "id": "uZJdS3aTEHq0"
      },
      "source": [
        "# Train Data\r\n",
        "# Treating Null Values\r\n",
        "train['Holding_Policy_Duration']=train['Holding_Policy_Duration'].replace('nan','0')\r\n",
        "train['Holding_Policy_Duration']=train['Holding_Policy_Duration'].replace('0',train['Holding_Policy_Duration'].median())\r\n",
        "\r\n",
        "train['Holding_Policy_Type']=train['Holding_Policy_Type'].replace('nan','0')\r\n",
        "train['Holding_Policy_Type']=train['Holding_Policy_Type'].replace('0',train['Holding_Policy_Type'].median())\r\n",
        "\r\n",
        "train['Health Indicator'].fillna(train['Health Indicator'].mode().values[0],inplace=True)\r\n",
        "\r\n",
        "#Removing Decimal point\r\n",
        "train['Holding_Policy_Duration'] = train['Holding_Policy_Duration'].apply(lambda x: clean_Dura(x))\r\n",
        "train['Holding_Policy_Type'] = train['Holding_Policy_Type'].apply(lambda x: clean_Dura(x))\r\n",
        "\r\n"
      ],
      "execution_count": null,
      "outputs": []
    },
    {
      "cell_type": "code",
      "metadata": {
        "id": "BoZGym26FoSP"
      },
      "source": [
        "# Test Data\r\n",
        "# Treating Null Values\r\n",
        "test['Holding_Policy_Duration']=test['Holding_Policy_Duration'].replace('nan','0')\r\n",
        "test['Holding_Policy_Duration']=test['Holding_Policy_Duration'].replace('0',test['Holding_Policy_Duration'].median())\r\n",
        "\r\n",
        "test['Holding_Policy_Type']=test['Holding_Policy_Type'].replace('nan','0')\r\n",
        "test['Holding_Policy_Type']=test['Holding_Policy_Type'].replace('0',test['Holding_Policy_Type'].median())\r\n",
        "\r\n",
        "test['Health Indicator'].fillna(test['Health Indicator'].mode().values[0],inplace=True)\r\n",
        "\r\n",
        "#Removing Decimal point\r\n",
        "test['Holding_Policy_Duration'] = test['Holding_Policy_Duration'].apply(lambda x: clean_Dura(x))\r\n",
        "test['Holding_Policy_Type'] = test['Holding_Policy_Type'].apply(lambda x: clean_Dura(x))"
      ],
      "execution_count": null,
      "outputs": []
    },
    {
      "cell_type": "code",
      "metadata": {
        "colab": {
          "base_uri": "https://localhost:8080/"
        },
        "id": "c-VxhFnyGuo5",
        "outputId": "4b351d95-64d9-4cee-be50-c52fc2c90f31"
      },
      "source": [
        "# Checking Data Types\r\n",
        "train.dtypes"
      ],
      "execution_count": null,
      "outputs": [
        {
          "output_type": "execute_result",
          "data": {
            "text/plain": [
              "ID                          int64\n",
              "City_Code                  object\n",
              "Region_Code                 int64\n",
              "Accomodation_Type          object\n",
              "Reco_Insurance_Type        object\n",
              "Upper_Age                   int64\n",
              "Lower_Age                   int64\n",
              "Is_Spouse                  object\n",
              "Health Indicator           object\n",
              "Holding_Policy_Duration    object\n",
              "Holding_Policy_Type        object\n",
              "Reco_Policy_Cat             int64\n",
              "Reco_Policy_Premium        object\n",
              "Response                    int64\n",
              "dtype: object"
            ]
          },
          "metadata": {
            "tags": []
          },
          "execution_count": 66
        }
      ]
    },
    {
      "cell_type": "code",
      "metadata": {
        "colab": {
          "base_uri": "https://localhost:8080/"
        },
        "id": "fE79dVZIG36B",
        "outputId": "c0c738e0-48a8-4600-8cd1-59dd1df785f8"
      },
      "source": [
        "test.dtypes"
      ],
      "execution_count": null,
      "outputs": [
        {
          "output_type": "execute_result",
          "data": {
            "text/plain": [
              "ID                          int64\n",
              "City_Code                  object\n",
              "Region_Code                 int64\n",
              "Accomodation_Type          object\n",
              "Reco_Insurance_Type        object\n",
              "Upper_Age                   int64\n",
              "Lower_Age                   int64\n",
              "Is_Spouse                  object\n",
              "Health Indicator           object\n",
              "Holding_Policy_Duration    object\n",
              "Holding_Policy_Type        object\n",
              "Reco_Policy_Cat             int64\n",
              "Reco_Policy_Premium        object\n",
              "dtype: object"
            ]
          },
          "metadata": {
            "tags": []
          },
          "execution_count": 67
        }
      ]
    },
    {
      "cell_type": "code",
      "metadata": {
        "id": "3gkN5OsxG6fU"
      },
      "source": [
        "# Correcting Data Types\r\n",
        "# train\r\n",
        "train['Holding_Policy_Duration']=train['Holding_Policy_Duration'].astype('int')\r\n",
        "train['Holding_Policy_Type']=train['Holding_Policy_Type'].astype('int')\r\n",
        "train['Reco_Policy_Premium']=train['Reco_Policy_Premium'].astype('int')"
      ],
      "execution_count": null,
      "outputs": []
    },
    {
      "cell_type": "code",
      "metadata": {
        "id": "VNUWRYDuHTpk"
      },
      "source": [
        "#Test\r\n",
        "test['Holding_Policy_Duration']=test['Holding_Policy_Duration'].astype('int')\r\n",
        "test['Holding_Policy_Type']=test['Holding_Policy_Type'].astype('int')\r\n",
        "test['Reco_Policy_Premium']=test['Reco_Policy_Premium'].astype('int')"
      ],
      "execution_count": null,
      "outputs": []
    },
    {
      "cell_type": "code",
      "metadata": {
        "id": "L_WpakPsHzmd"
      },
      "source": [
        "from sklearn.preprocessing import LabelEncoder"
      ],
      "execution_count": null,
      "outputs": []
    },
    {
      "cell_type": "code",
      "metadata": {
        "id": "YVJ9DQdGMbhE"
      },
      "source": [
        "# Train\r\n",
        "le=LabelEncoder()\r\n",
        "\r\n",
        "list1=['Accomodation_Type','Reco_Insurance_Type','Is_Spouse','Health Indicator','City_Code']\r\n",
        "for val in list1:\r\n",
        "  train[val]=le.fit_transform(train[val].astype(str))"
      ],
      "execution_count": null,
      "outputs": []
    },
    {
      "cell_type": "code",
      "metadata": {
        "id": "f1I0KU3zMfn5"
      },
      "source": [
        "# Test\r\n",
        "list1=['Accomodation_Type','Reco_Insurance_Type','Is_Spouse','Health Indicator','City_Code']\r\n",
        "for val in list1:\r\n",
        "  test[val]=le.fit_transform(test[val].astype(str))"
      ],
      "execution_count": null,
      "outputs": []
    },
    {
      "cell_type": "code",
      "metadata": {
        "id": "MUnVKkZGMiNX"
      },
      "source": [
        "# Lets check the correlation.\r\n",
        "traincor= train.corr()"
      ],
      "execution_count": null,
      "outputs": []
    },
    {
      "cell_type": "code",
      "metadata": {
        "colab": {
          "base_uri": "https://localhost:8080/",
          "height": 507
        },
        "id": "9hB9Efi5MqPy",
        "outputId": "52af1306-857f-47ee-fd8d-ec7fb8a38d8e"
      },
      "source": [
        "plt.figure(figsize = (10,6))\r\n",
        "sns.heatmap(traincor,cmap = 'Blues',annot = True)"
      ],
      "execution_count": null,
      "outputs": [
        {
          "output_type": "execute_result",
          "data": {
            "text/plain": [
              "<matplotlib.axes._subplots.AxesSubplot at 0x7f5bd549a990>"
            ]
          },
          "metadata": {
            "tags": []
          },
          "execution_count": 74
        },
        {
          "output_type": "display_data",
          "data": {
            "image/png": "[encoded data removed]",
            "text/plain": [
              "<Figure size 720x432 with 2 Axes>"
            ]
          },
          "metadata": {
            "tags": [],
            "needs_background": "light"
          }
        }
      ]
    },
    {
      "cell_type": "markdown",
      "metadata": {
        "id": "1v12XsWCV8Y2"
      },
      "source": [
        "#### **Observations:**\r\n",
        "* High correlation between Reco Insurance Type and Is_Spouse\r\n",
        "* High correlation between Upper age and Reco Insurance Premium\r\n",
        "* High correlation between Upper age and lower age"
      ]
    },
    {
      "cell_type": "code",
      "metadata": {
        "id": "MNnrAelvMt7p"
      },
      "source": [
        "# Checking Outliers\r\n",
        "collist=train.columns.values\r\n",
        "ncol=2\r\n",
        "nrows=10"
      ],
      "execution_count": null,
      "outputs": []
    },
    {
      "cell_type": "code",
      "metadata": {
        "colab": {
          "base_uri": "https://localhost:8080/",
          "height": 1000
        },
        "id": "MGDvUCyINKCQ",
        "outputId": "bf7c95be-b0aa-403f-f944-184e0f462515"
      },
      "source": [
        "#Lets visualize outliers through boxplots\r\n",
        "plt.figure(figsize=(10,30))\r\n",
        "for i in range (1,len(collist)):\r\n",
        "    plt.subplot(nrows,ncol,i+1)\r\n",
        "    sns.boxplot(train[collist[i]],color='green',orient='v')\r\n",
        "    plt.tight_layout()"
      ],
      "execution_count": null,
      "outputs": [
        {
          "output_type": "display_data",
          "data": {
            "image/png": "[encoded data removed]",
            "text/plain": [
              "<Figure size 720x2160 with 13 Axes>"
            ]
          },
          "metadata": {
            "tags": [],
            "needs_background": "light"
          }
        }
      ]
    },
    {
      "cell_type": "code",
      "metadata": {
        "id": "h0TIuoqlNN3R"
      },
      "source": [
        "#Treating Outliers\r\n",
        "# Train Data\r\n",
        "train.Region_Code[train.Region_Code>5800]=5800\r\n",
        "train.Reco_Insurance_Type[train.Reco_Insurance_Type>0]=0\r\n",
        "train.Is_Spouse[train.Is_Spouse>0]=0\r\n",
        "train['Health Indicator'][train['Health Indicator']>5]=5\r\n",
        "train.Holding_Policy_Duration[train.Holding_Policy_Duration>12]=12\r\n",
        "train.Reco_Policy_Premium[train.Reco_Policy_Premium>30010]=30010\r\n"
      ],
      "execution_count": null,
      "outputs": []
    },
    {
      "cell_type": "code",
      "metadata": {
        "id": "Q4U1QmGFNqqx"
      },
      "source": [
        "#Treating Outliers\r\n",
        "# Test Data\r\n",
        "test.Region_Code[test.Region_Code>5800]=5800\r\n",
        "test.Reco_Insurance_Type[test.Reco_Insurance_Type>0]=0\r\n",
        "test.Is_Spouse[test.Is_Spouse>0]=0\r\n",
        "test['Health Indicator'][test['Health Indicator']>5]=5\r\n",
        "test.Holding_Policy_Duration[test.Holding_Policy_Duration>12]=12\r\n",
        "test.Reco_Policy_Premium[test.Reco_Policy_Premium>30010]=30010"
      ],
      "execution_count": null,
      "outputs": []
    },
    {
      "cell_type": "code",
      "metadata": {
        "id": "LZMAXJj_Y5RK"
      },
      "source": [
        "train.drop(['Is_Spouse'],axis=1,inplace=True)\r\n",
        "test.drop(['Is_Spouse'],axis=1,inplace=True)"
      ],
      "execution_count": null,
      "outputs": []
    },
    {
      "cell_type": "markdown",
      "metadata": {
        "id": "qEdLdn-EPVKo"
      },
      "source": [
        "### **Spliting x and y**"
      ]
    },
    {
      "cell_type": "code",
      "metadata": {
        "id": "i3fOvRhdOoLq",
        "colab": {
          "base_uri": "https://localhost:8080/"
        },
        "outputId": "5b937193-c082-4bfe-bfe6-9a472633fe27"
      },
      "source": [
        "train_x=train.iloc[:,1:-1]\r\n",
        "train_y=train[['Response']]\r\n",
        "train_x.shape,train_y.shape"
      ],
      "execution_count": null,
      "outputs": [
        {
          "output_type": "execute_result",
          "data": {
            "text/plain": [
              "((50882, 11), (50882, 1))"
            ]
          },
          "metadata": {
            "tags": []
          },
          "execution_count": 76
        }
      ]
    },
    {
      "cell_type": "code",
      "metadata": {
        "colab": {
          "base_uri": "https://localhost:8080/"
        },
        "id": "_tZvB4NrYOpf",
        "outputId": "215d3e0f-d8ae-42cf-d629-8e3749909cb9"
      },
      "source": [
        "test_x=test.iloc[:,1:]\r\n",
        "\r\n",
        "test_x.columns"
      ],
      "execution_count": null,
      "outputs": [
        {
          "output_type": "execute_result",
          "data": {
            "text/plain": [
              "Index(['City_Code', 'Region_Code', 'Accomodation_Type', 'Reco_Insurance_Type',\n",
              "       'Upper_Age', 'Lower_Age', 'Health Indicator', 'Holding_Policy_Duration',\n",
              "       'Holding_Policy_Type', 'Reco_Policy_Cat', 'Reco_Policy_Premium'],\n",
              "      dtype='object')"
            ]
          },
          "metadata": {
            "tags": []
          },
          "execution_count": 77
        }
      ]
    },
    {
      "cell_type": "code",
      "metadata": {
        "colab": {
          "base_uri": "https://localhost:8080/"
        },
        "id": "bYB2HCrHYU7J",
        "outputId": "4462cc0a-60db-45b4-9e92-5c545a1f06f0"
      },
      "source": [
        "test_x.shape"
      ],
      "execution_count": null,
      "outputs": [
        {
          "output_type": "execute_result",
          "data": {
            "text/plain": [
              "(21805, 11)"
            ]
          },
          "metadata": {
            "tags": []
          },
          "execution_count": 78
        }
      ]
    },
    {
      "cell_type": "markdown",
      "metadata": {
        "id": "9_yAVkcEqtHY"
      },
      "source": [
        "# Pre-Processing"
      ]
    },
    {
      "cell_type": "code",
      "metadata": {
        "id": "tYTOJoTHqr1l"
      },
      "source": [
        "# Scaling data before fitting it to models"
      ],
      "execution_count": null,
      "outputs": []
    },
    {
      "cell_type": "code",
      "metadata": {
        "id": "T2eXP8omYavN"
      },
      "source": [
        "from sklearn.preprocessing import StandardScaler\r\n",
        "scale = StandardScaler()\r\n",
        "\r\n",
        "train_x = scale.fit_transform(train_x)\r\n",
        "test_x = scale.fit_transform(test_x)"
      ],
      "execution_count": null,
      "outputs": []
    },
    {
      "cell_type": "markdown",
      "metadata": {
        "id": "qc1jeSEep3mB"
      },
      "source": [
        "# Models"
      ]
    },
    {
      "cell_type": "code",
      "metadata": {
        "id": "amsnoEMBYeZG"
      },
      "source": [
        "from sklearn.ensemble import GradientBoostingClassifier"
      ],
      "execution_count": null,
      "outputs": []
    },
    {
      "cell_type": "code",
      "metadata": {
        "colab": {
          "base_uri": "https://localhost:8080/"
        },
        "id": "iiDClCe3YmPb",
        "outputId": "db4aa292-8b51-4019-d72e-f3aa4a9ea904"
      },
      "source": [
        "gb=GradientBoostingClassifier()\r\n",
        "gb.fit(train_x,train_y)\r\n",
        "gb.score(train_x,train_y)"
      ],
      "execution_count": null,
      "outputs": [
        {
          "output_type": "execute_result",
          "data": {
            "text/plain": [
              "0.7604064305648363"
            ]
          },
          "metadata": {
            "tags": []
          },
          "execution_count": 81
        }
      ]
    },
    {
      "cell_type": "code",
      "metadata": {
        "id": "txvTwFCvYoPd"
      },
      "source": [
        "pred_gb=gb.predict_proba(test_x)[:,1]"
      ],
      "execution_count": null,
      "outputs": []
    },
    {
      "cell_type": "code",
      "metadata": {
        "id": "gzza20z2ZhG4"
      },
      "source": [
        "pred_gb=pd.DataFrame(pred_gb,columns=['Response'])"
      ],
      "execution_count": null,
      "outputs": []
    },
    {
      "cell_type": "code",
      "metadata": {
        "id": "5AZGLzkpZvmD"
      },
      "source": [
        "id=pd.DataFrame(test['ID'],columns=['ID'])"
      ],
      "execution_count": null,
      "outputs": []
    },
    {
      "cell_type": "code",
      "metadata": {
        "id": "pyL0hfWDZjOH"
      },
      "source": [
        "pred_gb_sub=pd.concat([id,pred_gb],axis=1)\r\n",
        "pred_gb_sub"
      ],
      "execution_count": null,
      "outputs": []
    },
    {
      "cell_type": "code",
      "metadata": {
        "id": "48T-DGtGZk-B"
      },
      "source": [
        "pred_gb_sub.to_csv('pred_gb_sub.csv',index=False)"
      ],
      "execution_count": null,
      "outputs": []
    },
    {
      "cell_type": "code",
      "metadata": {
        "colab": {
          "base_uri": "https://localhost:8080/"
        },
        "id": "t9w8wATVZxBZ",
        "outputId": "ad87148c-83ed-44bc-9de7-2ead63a3aa01"
      },
      "source": [
        "from sklearn.metrics import f1_score\r\n",
        "lg = LogisticRegression()\r\n",
        "lg.fit(train_x,train_y)\r\n",
        "lg.score(train_x,train_y)"
      ],
      "execution_count": null,
      "outputs": [
        {
          "output_type": "execute_result",
          "data": {
            "text/plain": [
              "0.6032244718537481"
            ]
          },
          "metadata": {
            "tags": []
          },
          "execution_count": 190
        }
      ]
    },
    {
      "cell_type": "code",
      "metadata": {
        "colab": {
          "base_uri": "https://localhost:8080/"
        },
        "id": "sne6ekAynPdq",
        "outputId": "a5136ca5-3e62-4684-c27d-ae60fe117f35"
      },
      "source": [
        "from sklearn.model_selection import cross_val_score\r\n",
        "lgscores=cross_val_score(lg,X=train_x,y=train_y,cv=5,scoring='accuracy')\r\n",
        "print(lgscores)\r\n",
        "print(lgscores.mean()*100,lgscores.std()*100)"
      ],
      "execution_count": null,
      "outputs": [
        {
          "output_type": "stream",
          "text": [
            "[0.51919845 0.5680393  0.63358976 0.64483806 0.63087465]\n",
            "59.93080457890153 4.824925043270933\n"
          ],
          "name": "stdout"
        }
      ]
    },
    {
      "cell_type": "code",
      "metadata": {
        "colab": {
          "base_uri": "https://localhost:8080/"
        },
        "id": "n6WbvdN_nawQ",
        "outputId": "525736dc-74fd-4ec2-d7c1-7a8df072d8dc"
      },
      "source": [
        "from sklearn.naive_bayes import GaussianNB\r\n",
        "gnb = GaussianNB()\r\n",
        "gnb.fit(train_x,train_y)\r\n",
        "gnb.score(train_x,train_y)"
      ],
      "execution_count": null,
      "outputs": [
        {
          "output_type": "execute_result",
          "data": {
            "text/plain": [
              "0.7600526708855784"
            ]
          },
          "metadata": {
            "tags": []
          },
          "execution_count": 214
        }
      ]
    },
    {
      "cell_type": "code",
      "metadata": {
        "colab": {
          "base_uri": "https://localhost:8080/"
        },
        "id": "e70M6df7qNP_",
        "outputId": "26d2c450-b32b-4c49-ede8-c30e4e3deea9"
      },
      "source": [
        "from sklearn.neighbors import KNeighborsClassifier\r\n",
        "Knn = KNeighborsClassifier(n_neighbors=10,weights='uniform',algorithm='auto',n_jobs=-1, leaf_size=5)\r\n",
        "Knn.fit(train_x,train_y)\r\n",
        "Knn.score(train_x,train_y)"
      ],
      "execution_count": null,
      "outputs": [
        {
          "output_type": "execute_result",
          "data": {
            "text/plain": [
              "0.7660862387484769"
            ]
          },
          "metadata": {
            "tags": []
          },
          "execution_count": 215
        }
      ]
    },
    {
      "cell_type": "code",
      "metadata": {
        "colab": {
          "base_uri": "https://localhost:8080/"
        },
        "id": "MyoGG1efpKDY",
        "outputId": "0c30f8af-3e9b-426c-c0c8-c91f3cda5c37"
      },
      "source": [
        "!pip install xgboost\r\n"
      ],
      "execution_count": null,
      "outputs": [
        {
          "output_type": "stream",
          "text": [
            "Requirement already satisfied: xgboost in /usr/local/lib/python3.7/dist-packages (0.90)\n",
            "Requirement already satisfied: numpy in /usr/local/lib/python3.7/dist-packages (from xgboost) (1.19.5)\n",
            "Requirement already satisfied: scipy in /usr/local/lib/python3.7/dist-packages (from xgboost) (1.4.1)\n"
          ],
          "name": "stdout"
        }
      ]
    },
    {
      "cell_type": "code",
      "metadata": {
        "id": "-Us-9s8gtVLo"
      },
      "source": [
        "from xgboost import XGBClassifier"
      ],
      "execution_count": null,
      "outputs": []
    },
    {
      "cell_type": "code",
      "metadata": {
        "colab": {
          "base_uri": "https://localhost:8080/"
        },
        "id": "GQMESs2jtU7q",
        "outputId": "0b79aebf-bd0b-4523-d39b-4d5e1611e2c4"
      },
      "source": [
        "xg = XGBClassifier()\r\n",
        "xg.fit(train_x, train_y)\r\n",
        "xg.score(train_x,train_y)"
      ],
      "execution_count": null,
      "outputs": [
        {
          "output_type": "execute_result",
          "data": {
            "text/plain": [
              "0.7600919775166071"
            ]
          },
          "metadata": {
            "tags": []
          },
          "execution_count": 84
        }
      ]
    },
    {
      "cell_type": "code",
      "metadata": {
        "id": "ziyP7QxNtU2r"
      },
      "source": [
        "from sklearn.model_selection import cross_val_score"
      ],
      "execution_count": null,
      "outputs": []
    },
    {
      "cell_type": "code",
      "metadata": {
        "colab": {
          "base_uri": "https://localhost:8080/"
        },
        "id": "06Rf8hX9uIdO",
        "outputId": "215c1165-659e-4d9d-faee-b9e648190e8e"
      },
      "source": [
        "xgscores=cross_val_score(xg,X=train_x,y=train_y,cv=5,scoring='accuracy')\r\n",
        "print(xgscores)\r\n",
        "print(xgscores.mean()*100,xgscores.std()*100)"
      ],
      "execution_count": null,
      "outputs": [
        {
          "output_type": "stream",
          "text": [
            "[0.76014543 0.76004717 0.76012186 0.76002358 0.7603184 ]\n",
            "76.01312855229729 0.010389894247409706\n"
          ],
          "name": "stdout"
        }
      ]
    },
    {
      "cell_type": "code",
      "metadata": {
        "id": "T7XKX9WDwYlS"
      },
      "source": [
        "pred_xg=xg.predict_proba(test_x)[:,1]"
      ],
      "execution_count": null,
      "outputs": []
    },
    {
      "cell_type": "code",
      "metadata": {
        "colab": {
          "base_uri": "https://localhost:8080/",
          "height": 415
        },
        "id": "GbMynZU3wLLC",
        "outputId": "577e494d-b587-4d03-9375-c051b6313ef7"
      },
      "source": [
        "pred_xg=pd.DataFrame(pred_xg,columns=['Response'])\r\n",
        "pred_xg"
      ],
      "execution_count": null,
      "outputs": [
        {
          "output_type": "execute_result",
          "data": {
            "text/html": [
              "<div>\n",
              "<style scoped>\n",
              "    .dataframe tbody tr th:only-of-type {\n",
              "        vertical-align: middle;\n",
              "    }\n",
              "\n",
              "    .dataframe tbody tr th {\n",
              "        vertical-align: top;\n",
              "    }\n",
              "\n",
              "    .dataframe thead th {\n",
              "        text-align: right;\n",
              "    }\n",
              "</style>\n",
              "<table border=\"1\" class=\"dataframe\">\n",
              "  <thead>\n",
              "    <tr style=\"text-align: right;\">\n",
              "      <th></th>\n",
              "      <th>Response</th>\n",
              "    </tr>\n",
              "  </thead>\n",
              "  <tbody>\n",
              "    <tr>\n",
              "      <th>0</th>\n",
              "      <td>0.256989</td>\n",
              "    </tr>\n",
              "    <tr>\n",
              "      <th>1</th>\n",
              "      <td>0.256791</td>\n",
              "    </tr>\n",
              "    <tr>\n",
              "      <th>2</th>\n",
              "      <td>0.266073</td>\n",
              "    </tr>\n",
              "    <tr>\n",
              "      <th>3</th>\n",
              "      <td>0.207049</td>\n",
              "    </tr>\n",
              "    <tr>\n",
              "      <th>4</th>\n",
              "      <td>0.191070</td>\n",
              "    </tr>\n",
              "    <tr>\n",
              "      <th>...</th>\n",
              "      <td>...</td>\n",
              "    </tr>\n",
              "    <tr>\n",
              "      <th>21800</th>\n",
              "      <td>0.238987</td>\n",
              "    </tr>\n",
              "    <tr>\n",
              "      <th>21801</th>\n",
              "      <td>0.240728</td>\n",
              "    </tr>\n",
              "    <tr>\n",
              "      <th>21802</th>\n",
              "      <td>0.007689</td>\n",
              "    </tr>\n",
              "    <tr>\n",
              "      <th>21803</th>\n",
              "      <td>0.256701</td>\n",
              "    </tr>\n",
              "    <tr>\n",
              "      <th>21804</th>\n",
              "      <td>0.135458</td>\n",
              "    </tr>\n",
              "  </tbody>\n",
              "</table>\n",
              "<p>21805 rows × 1 columns</p>\n",
              "</div>"
            ],
            "text/plain": [
              "       Response\n",
              "0      0.256989\n",
              "1      0.256791\n",
              "2      0.266073\n",
              "3      0.207049\n",
              "4      0.191070\n",
              "...         ...\n",
              "21800  0.238987\n",
              "21801  0.240728\n",
              "21802  0.007689\n",
              "21803  0.256701\n",
              "21804  0.135458\n",
              "\n",
              "[21805 rows x 1 columns]"
            ]
          },
          "metadata": {
            "tags": []
          },
          "execution_count": 88
        }
      ]
    },
    {
      "cell_type": "code",
      "metadata": {
        "colab": {
          "base_uri": "https://localhost:8080/",
          "height": 415
        },
        "id": "hYpYP3yFwQhb",
        "outputId": "d442b308-748a-4c43-dd41-131ba47d4148"
      },
      "source": [
        "pred_xg_sub=pd.concat([id,pred_xg],axis=1)\r\n",
        "pred_xg_sub"
      ],
      "execution_count": null,
      "outputs": [
        {
          "output_type": "execute_result",
          "data": {
            "text/html": [
              "<div>\n",
              "<style scoped>\n",
              "    .dataframe tbody tr th:only-of-type {\n",
              "        vertical-align: middle;\n",
              "    }\n",
              "\n",
              "    .dataframe tbody tr th {\n",
              "        vertical-align: top;\n",
              "    }\n",
              "\n",
              "    .dataframe thead th {\n",
              "        text-align: right;\n",
              "    }\n",
              "</style>\n",
              "<table border=\"1\" class=\"dataframe\">\n",
              "  <thead>\n",
              "    <tr style=\"text-align: right;\">\n",
              "      <th></th>\n",
              "      <th>ID</th>\n",
              "      <th>Response</th>\n",
              "    </tr>\n",
              "  </thead>\n",
              "  <tbody>\n",
              "    <tr>\n",
              "      <th>0</th>\n",
              "      <td>50883</td>\n",
              "      <td>0.256989</td>\n",
              "    </tr>\n",
              "    <tr>\n",
              "      <th>1</th>\n",
              "      <td>50884</td>\n",
              "      <td>0.256791</td>\n",
              "    </tr>\n",
              "    <tr>\n",
              "      <th>2</th>\n",
              "      <td>50885</td>\n",
              "      <td>0.266073</td>\n",
              "    </tr>\n",
              "    <tr>\n",
              "      <th>3</th>\n",
              "      <td>50886</td>\n",
              "      <td>0.207049</td>\n",
              "    </tr>\n",
              "    <tr>\n",
              "      <th>4</th>\n",
              "      <td>50887</td>\n",
              "      <td>0.191070</td>\n",
              "    </tr>\n",
              "    <tr>\n",
              "      <th>...</th>\n",
              "      <td>...</td>\n",
              "      <td>...</td>\n",
              "    </tr>\n",
              "    <tr>\n",
              "      <th>21800</th>\n",
              "      <td>72683</td>\n",
              "      <td>0.238987</td>\n",
              "    </tr>\n",
              "    <tr>\n",
              "      <th>21801</th>\n",
              "      <td>72684</td>\n",
              "      <td>0.240728</td>\n",
              "    </tr>\n",
              "    <tr>\n",
              "      <th>21802</th>\n",
              "      <td>72685</td>\n",
              "      <td>0.007689</td>\n",
              "    </tr>\n",
              "    <tr>\n",
              "      <th>21803</th>\n",
              "      <td>72686</td>\n",
              "      <td>0.256701</td>\n",
              "    </tr>\n",
              "    <tr>\n",
              "      <th>21804</th>\n",
              "      <td>72687</td>\n",
              "      <td>0.135458</td>\n",
              "    </tr>\n",
              "  </tbody>\n",
              "</table>\n",
              "<p>21805 rows × 2 columns</p>\n",
              "</div>"
            ],
            "text/plain": [
              "          ID  Response\n",
              "0      50883  0.256989\n",
              "1      50884  0.256791\n",
              "2      50885  0.266073\n",
              "3      50886  0.207049\n",
              "4      50887  0.191070\n",
              "...      ...       ...\n",
              "21800  72683  0.238987\n",
              "21801  72684  0.240728\n",
              "21802  72685  0.007689\n",
              "21803  72686  0.256701\n",
              "21804  72687  0.135458\n",
              "\n",
              "[21805 rows x 2 columns]"
            ]
          },
          "metadata": {
            "tags": []
          },
          "execution_count": 91
        }
      ]
    },
    {
      "cell_type": "code",
      "metadata": {
        "id": "qmEyh7mfwXhF"
      },
      "source": [
        "pred_xg_sub.to_csv('pred_xg_sub.csv',index=False)"
      ],
      "execution_count": null,
      "outputs": []
    },
    {
      "cell_type": "markdown",
      "metadata": {
        "id": "ZP_tok3Vqc2t"
      },
      "source": [
        "# Conclusion\r\n",
        "The best score giving model would be efficient for the company."
      ]
    },
    {
      "cell_type": "code",
      "metadata": {
        "id": "1Ii1Llqkm_Wz"
      },
      "source": [
        ""
      ],
      "execution_count": null,
      "outputs": []
    }
  ]
}