{
 "cells": [
  {
   "cell_type": "code",
   "execution_count": 1,
   "metadata": {},
   "outputs": [],
   "source": [
    "import pandas as pd\n",
    "import numpy as np\n",
    "import seaborn as sns\n",
    "import matplotlib.pyplot as plt\n",
    "from sklearn.preprocessing import LabelEncoder\n",
    "from sklearn.linear_model import LogisticRegression\n",
    "from sklearn.metrics import accuracy_score, confusion_matrix, classification_report\n",
    "from sklearn.model_selection import train_test_split\n",
    "import warnings\n",
    "warnings.filterwarnings('ignore')"
   ]
  },
  {
   "cell_type": "code",
   "execution_count": 2,
   "metadata": {},
   "outputs": [],
   "source": [
    "df= pd.read_csv('malign_comments_train.csv')"
   ]
  },
  {
   "cell_type": "code",
   "execution_count": 3,
   "metadata": {},
   "outputs": [
    {
     "data": {
      "text/plain": [
       "id                  0\n",
       "comment_text        0\n",
       "malignant           0\n",
       "highly_malignant    0\n",
       "rude                0\n",
       "threat              0\n",
       "abuse               0\n",
       "loathe              0\n",
       "dtype: int64"
      ]
     },
     "execution_count": 3,
     "metadata": {},
     "output_type": "execute_result"
    }
   ],
   "source": [
    "df.isnull().sum()"
   ]
  },
  {
   "cell_type": "code",
   "execution_count": 4,
   "metadata": {},
   "outputs": [],
   "source": [
    "import re\n",
    "import nltk\n",
    "from nltk.corpus import  stopwords\n",
    "\n",
    "stop_words = set(stopwords.words('english'))\n",
    "from nltk.stem import WordNetLemmatizer\n",
    "lemmatizer=WordNetLemmatizer()"
   ]
  },
  {
   "cell_type": "code",
   "execution_count": 5,
   "metadata": {},
   "outputs": [],
   "source": [
    "def text_cleaner(text):\n",
    "    clean_text = re.sub(r'@[A-Za-z0-9]+','',text)\n",
    "    clean_text = re.sub('#','',clean_text)\n",
    "    clean_text = re.sub(r\"'s\\b\",'',clean_text)\n",
    "    clean_text = re.sub(r'[%$#@&}{]','',clean_text)\n",
    "    clean_text = re.sub(r'[.,:;!]','',clean_text)\n",
    "    letters_only = re.sub(\"[^a-zA-Z]\",' ',clean_text)\n",
    "    \n",
    "    lower_case = letters_only.lower()\n",
    "    tokens = [w for w in lower_case.split() if not w in stop_words]\n",
    "    clean_text=''\n",
    "    for i in tokens:\n",
    "        clean_text = clean_text + lemmatizer.lemmatize(i)+ ' '\n",
    "    return clean_text.strip()"
   ]
  },
  {
   "cell_type": "code",
   "execution_count": 9,
   "metadata": {},
   "outputs": [],
   "source": [
    "cleaned_text=[]\n",
    "for i in df['comment_text']:\n",
    "    cleaned_text.append(text_cleaner(i))"
   ]
  },
  {
   "cell_type": "code",
   "execution_count": 10,
   "metadata": {},
   "outputs": [],
   "source": [
    "df['cleaned_comments'] = cleaned_text"
   ]
  },
  {
   "cell_type": "code",
   "execution_count": 11,
   "metadata": {},
   "outputs": [],
   "source": [
    "# 1. Convert text into vectors using TF-IDF\n",
    "# 2. Instantiate MultinomialNB classifier\n",
    "# 3. Split feature and label\n",
    "from sklearn.feature_extraction.text import TfidfVectorizer\n",
    "from sklearn.naive_bayes import MultinomialNB\n",
    "from sklearn.model_selection import train_test_split\n",
    "from sklearn.metrics import accuracy_score, confusion_matrix, classification_report\n",
    "\n",
    "tf_vec = TfidfVectorizer()\n",
    "\n",
    "naive = MultinomialNB()\n",
    "\n",
    "features = tf_vec.fit_transform(df['cleaned_comments'])\n",
    "X = features\n",
    "y = df['malignant']\n",
    "\n"
   ]
  },
  {
   "cell_type": "code",
   "execution_count": 12,
   "metadata": {},
   "outputs": [
    {
     "name": "stdout",
     "output_type": "stream",
     "text": [
      "Final score = >  0.9202867671019979\n"
     ]
    }
   ],
   "source": [
    "# Train and predict\n",
    "X_train,x_test,Y_train,y_test = train_test_split(X,y,random_state=42,stratify=y)\n",
    "\n",
    "naive.fit(X_train,Y_train)\n",
    "\n",
    "y_pred= naive.predict(x_test)\n",
    "print ('Final score = > ', accuracy_score(y_test,y_pred))"
   ]
  },
  {
   "cell_type": "code",
   "execution_count": 13,
   "metadata": {},
   "outputs": [
    {
     "data": {
      "text/plain": [
       "((119678, 181680), (39893, 181680))"
      ]
     },
     "execution_count": 13,
     "metadata": {},
     "output_type": "execute_result"
    }
   ],
   "source": [
    "X_train.shape,x_test.shape"
   ]
  },
  {
   "cell_type": "code",
   "execution_count": 14,
   "metadata": {},
   "outputs": [
    {
     "name": "stdout",
     "output_type": "stream",
     "text": [
      "              precision    recall  f1-score   support\n",
      "\n",
      "           0       0.92      1.00      0.96     36069\n",
      "           1       0.99      0.17      0.29      3824\n",
      "\n",
      "    accuracy                           0.92     39893\n",
      "   macro avg       0.95      0.59      0.62     39893\n",
      "weighted avg       0.93      0.92      0.89     39893\n",
      "\n"
     ]
    }
   ],
   "source": [
    "print(classification_report(y_test, y_pred))"
   ]
  },
  {
   "cell_type": "code",
   "execution_count": 15,
   "metadata": {},
   "outputs": [],
   "source": [
    "from sklearn.model_selection import RandomizedSearchCV"
   ]
  },
  {
   "cell_type": "code",
   "execution_count": 17,
   "metadata": {},
   "outputs": [
    {
     "name": "stdout",
     "output_type": "stream",
     "text": [
      "accuracy_score 0.921264382222445\n",
      "[[35767   302]\n",
      " [ 2839   985]]\n",
      "              precision    recall  f1-score   support\n",
      "\n",
      "           0       0.93      0.99      0.96     36069\n",
      "           1       0.77      0.26      0.39      3824\n",
      "\n",
      "    accuracy                           0.92     39893\n",
      "   macro avg       0.85      0.62      0.67     39893\n",
      "weighted avg       0.91      0.92      0.90     39893\n",
      "\n"
     ]
    }
   ],
   "source": [
    "from sklearn.neighbors import KNeighborsClassifier\n",
    "Knn = KNeighborsClassifier(n_neighbors=2 ,weights='distance',algorithm='auto')\n",
    "Knn.fit(X_train,Y_train)\n",
    "predknn = Knn.predict(x_test)\n",
    "predknn\n",
    "print('accuracy_score',accuracy_score(predknn,y_test))\n",
    "print(confusion_matrix(y_test,predknn))\n",
    "print(classification_report(y_test,predknn))"
   ]
  },
  {
   "cell_type": "code",
   "execution_count": 18,
   "metadata": {},
   "outputs": [
    {
     "name": "stdout",
     "output_type": "stream",
     "text": [
      "predicted [0 0 0 ... 0 0 0]\n",
      "actual 48581     0\n",
      "76053     0\n",
      "3088      0\n",
      "87356     0\n",
      "101968    0\n",
      "         ..\n",
      "35002     0\n",
      "89323     0\n",
      "55330     0\n",
      "3203      0\n",
      "115491    0\n",
      "Name: malignant, Length: 39893, dtype: int64\n",
      "0.9041435840874339\n",
      "[[36069     0]\n",
      " [ 3824     0]]\n",
      "              precision    recall  f1-score   support\n",
      "\n",
      "           0       0.90      1.00      0.95     36069\n",
      "           1       0.00      0.00      0.00      3824\n",
      "\n",
      "    accuracy                           0.90     39893\n",
      "   macro avg       0.45      0.50      0.47     39893\n",
      "weighted avg       0.82      0.90      0.86     39893\n",
      "\n"
     ]
    }
   ],
   "source": [
    "from sklearn.ensemble import RandomForestClassifier\n",
    "\n",
    "rf = RandomForestClassifier(n_estimators=500,max_features ='sqrt',max_depth = 8,criterion='entropy')\n",
    "\n",
    "rf.fit(X_train,Y_train)\n",
    "predrf = rf.predict(x_test)\n",
    "predrf\n",
    "\n",
    "print('predicted',predrf)\n",
    "print('actual',y_test)\n",
    "\n",
    "print(accuracy_score(y_test,predrf))\n",
    "print(confusion_matrix(y_test,predrf))\n",
    "print(classification_report(y_test,predrf))"
   ]
  },
  {
   "cell_type": "code",
   "execution_count": 19,
   "metadata": {},
   "outputs": [
    {
     "name": "stdout",
     "output_type": "stream",
     "text": [
      "accuracy_score 0.9420951044042815\n",
      "[[35018  1051]\n",
      " [ 1259  2565]]\n",
      "              precision    recall  f1-score   support\n",
      "\n",
      "           0       0.97      0.97      0.97     36069\n",
      "           1       0.71      0.67      0.69      3824\n",
      "\n",
      "    accuracy                           0.94     39893\n",
      "   macro avg       0.84      0.82      0.83     39893\n",
      "weighted avg       0.94      0.94      0.94     39893\n",
      "\n"
     ]
    }
   ],
   "source": [
    "from sklearn.tree import DecisionTreeClassifier\n",
    "dct = DecisionTreeClassifier(criterion='entropy')\n",
    "dct.fit(X_train,Y_train)\n",
    "preddct = dct.predict(x_test)\n",
    "preddct\n",
    "print('accuracy_score',accuracy_score(preddct,y_test))\n",
    "print(confusion_matrix(y_test,preddct))\n",
    "print(classification_report(y_test,preddct))"
   ]
  },
  {
   "cell_type": "code",
   "execution_count": 20,
   "metadata": {},
   "outputs": [],
   "source": [
    "from sklearn.model_selection import cross_val_score"
   ]
  },
  {
   "cell_type": "code",
   "execution_count": 21,
   "metadata": {},
   "outputs": [
    {
     "name": "stdout",
     "output_type": "stream",
     "text": [
      "[0.93791778 0.93871156 0.94163603 0.94288699 0.94008774]\n",
      "94.02480195080483 0.1827955766098464\n"
     ]
    }
   ],
   "source": [
    "dctscores=cross_val_score(dct,X=X_train,y=Y_train,cv=5,scoring='accuracy')\n",
    "print(dctscores)\n",
    "print(dctscores.mean()*100,dctscores.std()*100)"
   ]
  },
  {
   "cell_type": "code",
   "execution_count": 20,
   "metadata": {},
   "outputs": [],
   "source": [
    "features = tf_vec.fit_transform(df['cleaned_comments'])\n",
    "X = features\n",
    "y = df['malignant']\n"
   ]
  },
  {
   "cell_type": "code",
   "execution_count": 25,
   "metadata": {},
   "outputs": [],
   "source": [
    "X_test = tf_vec.transform(df1['cleaned_comments'])\n"
   ]
  },
  {
   "cell_type": "code",
   "execution_count": 26,
   "metadata": {},
   "outputs": [
    {
     "data": {
      "text/plain": [
       "((159571, 181680), (153164, 181680))"
      ]
     },
     "execution_count": 26,
     "metadata": {},
     "output_type": "execute_result"
    }
   ],
   "source": [
    "X.shape,X_test.shape"
   ]
  },
  {
   "cell_type": "code",
   "execution_count": 28,
   "metadata": {},
   "outputs": [
    {
     "data": {
      "text/plain": [
       "array([0, 0, 0, ..., 0, 0, 0], dtype=int64)"
      ]
     },
     "execution_count": 28,
     "metadata": {},
     "output_type": "execute_result"
    }
   ],
   "source": [
    "y_pred= naive.predict(X_test)\n",
    "y_pred"
   ]
  },
  {
   "cell_type": "code",
   "execution_count": 29,
   "metadata": {},
   "outputs": [
    {
     "data": {
      "text/plain": [
       "48581     0\n",
       "76053     0\n",
       "3088      0\n",
       "87356     0\n",
       "101968    0\n",
       "         ..\n",
       "35002     0\n",
       "89323     0\n",
       "55330     0\n",
       "3203      0\n",
       "115491    0\n",
       "Name: malignant, Length: 39893, dtype: int64"
      ]
     },
     "execution_count": 29,
     "metadata": {},
     "output_type": "execute_result"
    }
   ],
   "source": [
    "y_test"
   ]
  },
  {
   "cell_type": "code",
   "execution_count": null,
   "metadata": {},
   "outputs": [],
   "source": []
  },
  {
   "cell_type": "code",
   "execution_count": 19,
   "metadata": {},
   "outputs": [
    {
     "data": {
      "text/plain": [
       "Index(['id', 'comment_text', 'malignant', 'highly_malignant', 'rude', 'threat',\n",
       "       'abuse', 'loathe', 'cleaned_comments'],\n",
       "      dtype='object')"
      ]
     },
     "execution_count": 19,
     "metadata": {},
     "output_type": "execute_result"
    }
   ],
   "source": [
    "df.columns"
   ]
  },
  {
   "cell_type": "markdown",
   "metadata": {},
   "source": [
    "## Highly Malignant "
   ]
  },
  {
   "cell_type": "code",
   "execution_count": 22,
   "metadata": {},
   "outputs": [],
   "source": [
    "y = df['highly_malignant']"
   ]
  },
  {
   "cell_type": "code",
   "execution_count": 23,
   "metadata": {},
   "outputs": [
    {
     "name": "stdout",
     "output_type": "stream",
     "text": [
      "Final score = >  0.9899731782518236\n"
     ]
    }
   ],
   "source": [
    "# Train and predict\n",
    "X_train,x_test,Y_train,y_test = train_test_split(X,y,random_state=42,stratify=y)\n",
    "\n",
    "naive.fit(X_train,Y_train)\n",
    "\n",
    "y_pred2= naive.predict(x_test)\n",
    "print ('Final score = > ', accuracy_score(y_test,y_pred2))"
   ]
  },
  {
   "cell_type": "code",
   "execution_count": 24,
   "metadata": {},
   "outputs": [
    {
     "name": "stdout",
     "output_type": "stream",
     "text": [
      "accuracy_score 0.987892612739077\n",
      "[[39327   167]\n",
      " [  316    83]]\n",
      "              precision    recall  f1-score   support\n",
      "\n",
      "           0       0.99      1.00      0.99     39494\n",
      "           1       0.33      0.21      0.26       399\n",
      "\n",
      "    accuracy                           0.99     39893\n",
      "   macro avg       0.66      0.60      0.62     39893\n",
      "weighted avg       0.99      0.99      0.99     39893\n",
      "\n"
     ]
    }
   ],
   "source": [
    "from sklearn.neighbors import KNeighborsClassifier\n",
    "Knn = KNeighborsClassifier(n_neighbors=2 ,weights='distance',algorithm='auto')\n",
    "Knn.fit(X_train,Y_train)\n",
    "predknn2 = Knn.predict(x_test)\n",
    "predknn2\n",
    "print('accuracy_score',accuracy_score(predknn2,y_test))\n",
    "print(confusion_matrix(y_test,predknn2))\n",
    "print(classification_report(y_test,predknn2))"
   ]
  },
  {
   "cell_type": "code",
   "execution_count": 25,
   "metadata": {},
   "outputs": [
    {
     "name": "stdout",
     "output_type": "stream",
     "text": [
      "accuracy_score 0.9877923445215953\n",
      "[[39299   195]\n",
      " [  292   107]]\n",
      "              precision    recall  f1-score   support\n",
      "\n",
      "           0       0.99      1.00      0.99     39494\n",
      "           1       0.35      0.27      0.31       399\n",
      "\n",
      "    accuracy                           0.99     39893\n",
      "   macro avg       0.67      0.63      0.65     39893\n",
      "weighted avg       0.99      0.99      0.99     39893\n",
      "\n"
     ]
    }
   ],
   "source": [
    "from sklearn.tree import DecisionTreeClassifier\n",
    "dct = DecisionTreeClassifier(criterion='entropy')\n",
    "dct.fit(X_train,Y_train)\n",
    "preddct2 = dct.predict(x_test)\n",
    "preddct2\n",
    "print('accuracy_score',accuracy_score(preddct2,y_test))\n",
    "print(confusion_matrix(y_test,preddct2))\n",
    "print(classification_report(y_test,preddct2))"
   ]
  },
  {
   "cell_type": "markdown",
   "metadata": {},
   "source": [
    "## Rude"
   ]
  },
  {
   "cell_type": "code",
   "execution_count": 26,
   "metadata": {},
   "outputs": [],
   "source": [
    "y = df['rude']"
   ]
  },
  {
   "cell_type": "code",
   "execution_count": 27,
   "metadata": {},
   "outputs": [
    {
     "name": "stdout",
     "output_type": "stream",
     "text": [
      "Final score = >  0.9520467249893465\n"
     ]
    }
   ],
   "source": [
    "# Train and predict\n",
    "X_train,x_test,Y_train,y_test = train_test_split(X,y,random_state=42,stratify=y)\n",
    "  \n",
    "naive.fit(X_train,Y_train)\n",
    "\n",
    "y_pred3= naive.predict(x_test)\n",
    "print ('Final score = > ', accuracy_score(y_test,y_pred3))"
   ]
  },
  {
   "cell_type": "code",
   "execution_count": 28,
   "metadata": {},
   "outputs": [
    {
     "name": "stdout",
     "output_type": "stream",
     "text": [
      "accuracy_score 0.9552302408943925\n",
      "[[37533   248]\n",
      " [ 1538   574]]\n",
      "              precision    recall  f1-score   support\n",
      "\n",
      "           0       0.96      0.99      0.98     37781\n",
      "           1       0.70      0.27      0.39      2112\n",
      "\n",
      "    accuracy                           0.96     39893\n",
      "   macro avg       0.83      0.63      0.68     39893\n",
      "weighted avg       0.95      0.96      0.95     39893\n",
      "\n"
     ]
    }
   ],
   "source": [
    "from sklearn.neighbors import KNeighborsClassifier\n",
    "Knn = KNeighborsClassifier(n_neighbors=2 ,weights='distance',algorithm='auto')\n",
    "Knn.fit(X_train,Y_train)\n",
    "predknn3 = Knn.predict(x_test)\n",
    "\n",
    "print('accuracy_score',accuracy_score(predknn3,y_test))\n",
    "print(confusion_matrix(y_test,predknn3))\n",
    "print(classification_report(y_test,predknn3))"
   ]
  },
  {
   "cell_type": "code",
   "execution_count": 29,
   "metadata": {},
   "outputs": [
    {
     "name": "stdout",
     "output_type": "stream",
     "text": [
      "accuracy_score 0.9740806657809641\n",
      "[[37259   522]\n",
      " [  512  1600]]\n",
      "              precision    recall  f1-score   support\n",
      "\n",
      "           0       0.99      0.99      0.99     37781\n",
      "           1       0.75      0.76      0.76      2112\n",
      "\n",
      "    accuracy                           0.97     39893\n",
      "   macro avg       0.87      0.87      0.87     39893\n",
      "weighted avg       0.97      0.97      0.97     39893\n",
      "\n"
     ]
    }
   ],
   "source": [
    "from sklearn.tree import DecisionTreeClassifier\n",
    "dct = DecisionTreeClassifier(criterion='entropy')\n",
    "dct.fit(X_train,Y_train)\n",
    "preddct3 = dct.predict(x_test)\n",
    "preddct3\n",
    "print('accuracy_score',accuracy_score(preddct3,y_test))\n",
    "print(confusion_matrix(y_test,preddct3))\n",
    "print(classification_report(y_test,preddct3))"
   ]
  },
  {
   "cell_type": "code",
   "execution_count": null,
   "metadata": {},
   "outputs": [],
   "source": []
  },
  {
   "cell_type": "markdown",
   "metadata": {},
   "source": [
    "# Threat"
   ]
  },
  {
   "cell_type": "code",
   "execution_count": 30,
   "metadata": {},
   "outputs": [],
   "source": [
    "y = df['threat']"
   ]
  },
  {
   "cell_type": "code",
   "execution_count": 31,
   "metadata": {},
   "outputs": [
    {
     "name": "stdout",
     "output_type": "stream",
     "text": [
      "Final score = >  0.9969668864211767\n"
     ]
    }
   ],
   "source": [
    "# Train and predict\n",
    "X_train,x_test,Y_train,y_test = train_test_split(X,y,random_state=42,stratify=y)\n",
    "\n",
    "naive.fit(X_train,Y_train)\n",
    "\n",
    "y_pred4= naive.predict(x_test)\n",
    "print ('Final score = > ', accuracy_score(y_test,y_pred4))"
   ]
  },
  {
   "cell_type": "code",
   "execution_count": 32,
   "metadata": {},
   "outputs": [
    {
     "name": "stdout",
     "output_type": "stream",
     "text": [
      "accuracy_score 0.9965908806056201\n",
      "[[39747    26]\n",
      " [  110    10]]\n",
      "              precision    recall  f1-score   support\n",
      "\n",
      "           0       1.00      1.00      1.00     39773\n",
      "           1       0.28      0.08      0.13       120\n",
      "\n",
      "    accuracy                           1.00     39893\n",
      "   macro avg       0.64      0.54      0.56     39893\n",
      "weighted avg       1.00      1.00      1.00     39893\n",
      "\n"
     ]
    }
   ],
   "source": [
    "from sklearn.neighbors import KNeighborsClassifier\n",
    "Knn = KNeighborsClassifier(n_neighbors=2 ,weights='distance',algorithm='auto')\n",
    "Knn.fit(X_train,Y_train)\n",
    "predknn4 = Knn.predict(x_test)\n",
    "predknn4\n",
    "print('accuracy_score',accuracy_score(predknn4,y_test))\n",
    "print(confusion_matrix(y_test,predknn4))\n",
    "print(classification_report(y_test,predknn4))"
   ]
  },
  {
   "cell_type": "code",
   "execution_count": 33,
   "metadata": {},
   "outputs": [
    {
     "name": "stdout",
     "output_type": "stream",
     "text": [
      "accuracy_score 0.9966159476599905\n",
      "[[39727    46]\n",
      " [   89    31]]\n",
      "              precision    recall  f1-score   support\n",
      "\n",
      "           0       1.00      1.00      1.00     39773\n",
      "           1       0.40      0.26      0.31       120\n",
      "\n",
      "    accuracy                           1.00     39893\n",
      "   macro avg       0.70      0.63      0.66     39893\n",
      "weighted avg       1.00      1.00      1.00     39893\n",
      "\n"
     ]
    }
   ],
   "source": [
    "from sklearn.tree import DecisionTreeClassifier\n",
    "dct = DecisionTreeClassifier(criterion='entropy')\n",
    "dct.fit(X_train,Y_train)\n",
    "preddct4 = dct.predict(x_test)\n",
    "preddct4\n",
    "print('accuracy_score',accuracy_score(preddct4,y_test))\n",
    "print(confusion_matrix(y_test,preddct4))\n",
    "print(classification_report(y_test,preddct4))"
   ]
  },
  {
   "cell_type": "markdown",
   "metadata": {},
   "source": [
    "# Abuse"
   ]
  },
  {
   "cell_type": "code",
   "execution_count": 34,
   "metadata": {},
   "outputs": [],
   "source": [
    "y = df['abuse']"
   ]
  },
  {
   "cell_type": "code",
   "execution_count": 35,
   "metadata": {},
   "outputs": [
    {
     "name": "stdout",
     "output_type": "stream",
     "text": [
      "Final score = >  0.9523725966961623\n"
     ]
    }
   ],
   "source": [
    "# Train and predict\n",
    "X_train,x_test,Y_train,y_test = train_test_split(X,y,random_state=42,stratify=y)\n",
    "\n",
    "naive.fit(X_train,Y_train)\n",
    "\n",
    "y_pred5= naive.predict(x_test)\n",
    "print ('Final score = > ', accuracy_score(y_test,y_pred5))"
   ]
  },
  {
   "cell_type": "code",
   "execution_count": 36,
   "metadata": {},
   "outputs": [
    {
     "name": "stdout",
     "output_type": "stream",
     "text": [
      "accuracy_score 0.9570350688090642\n",
      "[[37713   211]\n",
      " [ 1503   466]]\n",
      "              precision    recall  f1-score   support\n",
      "\n",
      "           0       0.96      0.99      0.98     37924\n",
      "           1       0.69      0.24      0.35      1969\n",
      "\n",
      "    accuracy                           0.96     39893\n",
      "   macro avg       0.83      0.62      0.67     39893\n",
      "weighted avg       0.95      0.96      0.95     39893\n",
      "\n"
     ]
    }
   ],
   "source": [
    "from sklearn.neighbors import KNeighborsClassifier\n",
    "Knn = KNeighborsClassifier(n_neighbors=2 ,weights='distance',algorithm='auto')\n",
    "Knn.fit(X_train,Y_train)\n",
    "predknn5= Knn.predict(x_test)\n",
    "predknn5\n",
    "print('accuracy_score',accuracy_score(predknn5,y_test))\n",
    "print(confusion_matrix(y_test,predknn5))\n",
    "print(classification_report(y_test,predknn5))"
   ]
  },
  {
   "cell_type": "code",
   "execution_count": 37,
   "metadata": {},
   "outputs": [
    {
     "name": "stdout",
     "output_type": "stream",
     "text": [
      "accuracy_score 0.9616223397588549\n",
      "[[37180   744]\n",
      " [  787  1182]]\n",
      "              precision    recall  f1-score   support\n",
      "\n",
      "           0       0.98      0.98      0.98     37924\n",
      "           1       0.61      0.60      0.61      1969\n",
      "\n",
      "    accuracy                           0.96     39893\n",
      "   macro avg       0.80      0.79      0.79     39893\n",
      "weighted avg       0.96      0.96      0.96     39893\n",
      "\n"
     ]
    }
   ],
   "source": [
    "from sklearn.tree import DecisionTreeClassifier\n",
    "dct = DecisionTreeClassifier(criterion='entropy')\n",
    "dct.fit(X_train,Y_train)\n",
    "preddct5 = dct.predict(x_test)\n",
    "preddct5\n",
    "print('accuracy_score',accuracy_score(preddct5,y_test))\n",
    "print(confusion_matrix(y_test,preddct5))\n",
    "print(classification_report(y_test,preddct5))"
   ]
  },
  {
   "cell_type": "markdown",
   "metadata": {},
   "source": [
    "# Loathe"
   ]
  },
  {
   "cell_type": "code",
   "execution_count": 38,
   "metadata": {},
   "outputs": [],
   "source": [
    " y = df['loathe']"
   ]
  },
  {
   "cell_type": "code",
   "execution_count": 39,
   "metadata": {},
   "outputs": [
    {
     "name": "stdout",
     "output_type": "stream",
     "text": [
      "Final score = >  0.9911763968616047\n"
     ]
    }
   ],
   "source": [
    "# Train and predict\n",
    "X_train,x_test,Y_train,y_test = train_test_split(X,y,random_state=42,stratify=y)\n",
    "\n",
    "naive.fit(X_train,Y_train)\n",
    "\n",
    "y_pred6= naive.predict(x_test)\n",
    "print ('Final score = > ', accuracy_score(y_test,y_pred6))"
   ]
  },
  {
   "cell_type": "code",
   "execution_count": 40,
   "metadata": {},
   "outputs": [
    {
     "name": "stdout",
     "output_type": "stream",
     "text": [
      "accuracy_score 0.9908505251547891\n",
      "[[39482    60]\n",
      " [  305    46]]\n",
      "              precision    recall  f1-score   support\n",
      "\n",
      "           0       0.99      1.00      1.00     39542\n",
      "           1       0.43      0.13      0.20       351\n",
      "\n",
      "    accuracy                           0.99     39893\n",
      "   macro avg       0.71      0.56      0.60     39893\n",
      "weighted avg       0.99      0.99      0.99     39893\n",
      "\n"
     ]
    }
   ],
   "source": [
    "from sklearn.neighbors import KNeighborsClassifier\n",
    "Knn = KNeighborsClassifier(n_neighbors=2 ,weights='distance',algorithm='auto')\n",
    "Knn.fit(X_train,Y_train)\n",
    "predknn6 = Knn.predict(x_test)\n",
    "predknn6\n",
    "print('accuracy_score',accuracy_score(predknn6,y_test))\n",
    "print(confusion_matrix(y_test,predknn6))\n",
    "print(classification_report(y_test,predknn6))"
   ]
  },
  {
   "cell_type": "code",
   "execution_count": 41,
   "metadata": {},
   "outputs": [
    {
     "name": "stdout",
     "output_type": "stream",
     "text": [
      "accuracy_score 0.9898729100343419\n",
      "[[39383   159]\n",
      " [  245   106]]\n",
      "              precision    recall  f1-score   support\n",
      "\n",
      "           0       0.99      1.00      0.99     39542\n",
      "           1       0.40      0.30      0.34       351\n",
      "\n",
      "    accuracy                           0.99     39893\n",
      "   macro avg       0.70      0.65      0.67     39893\n",
      "weighted avg       0.99      0.99      0.99     39893\n",
      "\n"
     ]
    }
   ],
   "source": [
    "from sklearn.tree import DecisionTreeClassifier\n",
    "dct = DecisionTreeClassifier(criterion='entropy')\n",
    "dct.fit(X_train,Y_train)\n",
    "preddct6 = dct.predict(x_test)\n",
    "preddct6\n",
    "print('accuracy_score',accuracy_score(preddct6,y_test))\n",
    "print(confusion_matrix(y_test,preddct6))\n",
    "print(classification_report(y_test,preddct6))"
   ]
  },
  {
   "cell_type": "code",
   "execution_count": 42,
   "metadata": {},
   "outputs": [
    {
     "data": {
      "text/plain": [
       "Index(['id', 'comment_text', 'malignant', 'highly_malignant', 'rude', 'threat',\n",
       "       'abuse', 'loathe', 'cleaned_comments'],\n",
       "      dtype='object')"
      ]
     },
     "execution_count": 42,
     "metadata": {},
     "output_type": "execute_result"
    }
   ],
   "source": [
    "df.columns"
   ]
  },
  {
   "cell_type": "code",
   "execution_count": 43,
   "metadata": {},
   "outputs": [],
   "source": [
    "list1=['MultinimialNB','Knn','DecisionTree']"
   ]
  },
  {
   "cell_type": "code",
   "execution_count": 44,
   "metadata": {},
   "outputs": [],
   "source": [
    "list2 =[accuracy_score(y_test,y_pred),accuracy_score(predknn,y_test),accuracy_score(preddct,y_test)]"
   ]
  },
  {
   "cell_type": "code",
   "execution_count": 45,
   "metadata": {},
   "outputs": [],
   "source": [
    "list3 =[accuracy_score(y_test,y_pred2),accuracy_score(predknn2,y_test),accuracy_score(preddct2,y_test)]"
   ]
  },
  {
   "cell_type": "code",
   "execution_count": 46,
   "metadata": {},
   "outputs": [],
   "source": [
    "list4 =[accuracy_score(y_test,y_pred3),accuracy_score(predknn3,y_test),accuracy_score(preddct3,y_test)]"
   ]
  },
  {
   "cell_type": "code",
   "execution_count": 47,
   "metadata": {},
   "outputs": [],
   "source": [
    "list5 =[accuracy_score(y_test,y_pred4),accuracy_score(predknn4,y_test),accuracy_score(preddct4,y_test)]"
   ]
  },
  {
   "cell_type": "code",
   "execution_count": 48,
   "metadata": {},
   "outputs": [],
   "source": [
    "list6= [accuracy_score(y_test,y_pred5),accuracy_score(predknn5,y_test),accuracy_score(preddct5,y_test)]"
   ]
  },
  {
   "cell_type": "code",
   "execution_count": 49,
   "metadata": {},
   "outputs": [],
   "source": [
    "list7 =[accuracy_score(y_test,y_pred6),accuracy_score(predknn6,y_test),accuracy_score(preddct6,y_test)]"
   ]
  },
  {
   "cell_type": "code",
   "execution_count": null,
   "metadata": {},
   "outputs": [],
   "source": []
  },
  {
   "cell_type": "code",
   "execution_count": 50,
   "metadata": {},
   "outputs": [],
   "source": [
    "model_performance=pd.DataFrame(list(zip(list1,list2,list3,list4,list5,list6,list7)),columns=['Model','malignment','highly_malignant','rude','threat','abuse','loathe'])"
   ]
  },
  {
   "cell_type": "code",
   "execution_count": 51,
   "metadata": {},
   "outputs": [
    {
     "data": {
      "text/html": [
       "<div>\n",
       "<style scoped>\n",
       "    .dataframe tbody tr th:only-of-type {\n",
       "        vertical-align: middle;\n",
       "    }\n",
       "\n",
       "    .dataframe tbody tr th {\n",
       "        vertical-align: top;\n",
       "    }\n",
       "\n",
       "    .dataframe thead th {\n",
       "        text-align: right;\n",
       "    }\n",
       "</style>\n",
       "<table border=\"1\" class=\"dataframe\">\n",
       "  <thead>\n",
       "    <tr style=\"text-align: right;\">\n",
       "      <th></th>\n",
       "      <th>Model</th>\n",
       "      <th>malignment</th>\n",
       "      <th>highly_malignant</th>\n",
       "      <th>rude</th>\n",
       "      <th>threat</th>\n",
       "      <th>abuse</th>\n",
       "      <th>loathe</th>\n",
       "    </tr>\n",
       "  </thead>\n",
       "  <tbody>\n",
       "    <tr>\n",
       "      <td>0</td>\n",
       "      <td>MultinimialNB</td>\n",
       "      <td>0.974808</td>\n",
       "      <td>0.991176</td>\n",
       "      <td>0.985812</td>\n",
       "      <td>0.991176</td>\n",
       "      <td>0.989372</td>\n",
       "      <td>0.991176</td>\n",
       "    </tr>\n",
       "    <tr>\n",
       "      <td>1</td>\n",
       "      <td>Knn</td>\n",
       "      <td>0.959291</td>\n",
       "      <td>0.985035</td>\n",
       "      <td>0.971048</td>\n",
       "      <td>0.990299</td>\n",
       "      <td>0.974783</td>\n",
       "      <td>0.990851</td>\n",
       "    </tr>\n",
       "    <tr>\n",
       "      <td>2</td>\n",
       "      <td>DecisionTree</td>\n",
       "      <td>0.901662</td>\n",
       "      <td>0.983782</td>\n",
       "      <td>0.938711</td>\n",
       "      <td>0.989271</td>\n",
       "      <td>0.943775</td>\n",
       "      <td>0.989873</td>\n",
       "    </tr>\n",
       "  </tbody>\n",
       "</table>\n",
       "</div>"
      ],
      "text/plain": [
       "           Model  malignment  highly_malignant      rude    threat     abuse  \\\n",
       "0  MultinimialNB    0.974808          0.991176  0.985812  0.991176  0.989372   \n",
       "1            Knn    0.959291          0.985035  0.971048  0.990299  0.974783   \n",
       "2   DecisionTree    0.901662          0.983782  0.938711  0.989271  0.943775   \n",
       "\n",
       "     loathe  \n",
       "0  0.991176  \n",
       "1  0.990851  \n",
       "2  0.989873  "
      ]
     },
     "execution_count": 51,
     "metadata": {},
     "output_type": "execute_result"
    }
   ],
   "source": [
    "model_performance"
   ]
  },
  {
   "cell_type": "code",
   "execution_count": 30,
   "metadata": {},
   "outputs": [],
   "source": [
    "# Now will predict our best performing model on test data."
   ]
  },
  {
   "cell_type": "code",
   "execution_count": 52,
   "metadata": {},
   "outputs": [],
   "source": [
    "df1= pd.read_csv('malign_comments_test.csv')"
   ]
  },
  {
   "cell_type": "code",
   "execution_count": 53,
   "metadata": {},
   "outputs": [],
   "source": [
    "def text_cleaner(text):\n",
    "    clean_text = re.sub(r'@[A-Za-z0-9]+','',text)\n",
    "    clean_text = re.sub('#','',clean_text)\n",
    "    clean_text = re.sub(r\"'s\\b\",'',clean_text)\n",
    "    clean_text = re.sub(r'[%$#@&}{]','',clean_text)\n",
    "    clean_text = re.sub(r'[.,:;!]','',clean_text)\n",
    "    letters_only = re.sub(\"[^a-zA-Z]\",' ',clean_text)\n",
    "    \n",
    "    lower_case = letters_only.lower()\n",
    "    tokens = [w for w in lower_case.split() if not w in stop_words]\n",
    "    clean_text=''\n",
    "    for i in tokens:\n",
    "        clean_text = clean_text + lemmatizer.lemmatize(i)+ ' '\n",
    "    return clean_text.strip()"
   ]
  },
  {
   "cell_type": "code",
   "execution_count": 54,
   "metadata": {},
   "outputs": [],
   "source": [
    "cleaned_text1=[]\n",
    "for i in df1['comment_text']:\n",
    "    cleaned_text1.append(text_cleaner(i))\n",
    "df1['cleaned_comments'] = cleaned_text1"
   ]
  },
  {
   "cell_type": "code",
   "execution_count": 55,
   "metadata": {},
   "outputs": [],
   "source": [
    "X_test = tf_vec.transform(df1['cleaned_comments'])"
   ]
  },
  {
   "cell_type": "code",
   "execution_count": 56,
   "metadata": {},
   "outputs": [],
   "source": [
    "X = features\n",
    "y = df['malignant']"
   ]
  },
  {
   "cell_type": "code",
   "execution_count": 57,
   "metadata": {},
   "outputs": [
    {
     "data": {
      "text/plain": [
       "array([0, 0, 0, ..., 0, 0, 0], dtype=int64)"
      ]
     },
     "execution_count": 57,
     "metadata": {},
     "output_type": "execute_result"
    }
   ],
   "source": [
    "y_pred= naive.predict(X_test)\n",
    "y_pred"
   ]
  },
  {
   "cell_type": "markdown",
   "metadata": {},
   "source": [
    "# highly malignant"
   ]
  },
  {
   "cell_type": "code",
   "execution_count": 60,
   "metadata": {},
   "outputs": [],
   "source": [
    "y = df['highly_malignant']"
   ]
  },
  {
   "cell_type": "code",
   "execution_count": 61,
   "metadata": {},
   "outputs": [
    {
     "data": {
      "text/plain": [
       "array([0, 0, 0, ..., 0, 0, 0], dtype=int64)"
      ]
     },
     "execution_count": 61,
     "metadata": {},
     "output_type": "execute_result"
    }
   ],
   "source": [
    "y_pred2= naive.predict(X_test)\n",
    "y_pred2"
   ]
  },
  {
   "cell_type": "markdown",
   "metadata": {},
   "source": [
    "## Rude"
   ]
  },
  {
   "cell_type": "code",
   "execution_count": 63,
   "metadata": {},
   "outputs": [],
   "source": [
    "y = df['rude']"
   ]
  },
  {
   "cell_type": "code",
   "execution_count": 64,
   "metadata": {},
   "outputs": [
    {
     "data": {
      "text/plain": [
       "array([0, 0, 0, ..., 0, 0, 0], dtype=int64)"
      ]
     },
     "execution_count": 64,
     "metadata": {},
     "output_type": "execute_result"
    }
   ],
   "source": [
    "y_pred3= naive.predict(x_test)\n",
    "y_pred3"
   ]
  },
  {
   "cell_type": "markdown",
   "metadata": {},
   "source": [
    "## threat"
   ]
  },
  {
   "cell_type": "code",
   "execution_count": 65,
   "metadata": {},
   "outputs": [],
   "source": [
    "y=df['threat']"
   ]
  },
  {
   "cell_type": "code",
   "execution_count": 66,
   "metadata": {},
   "outputs": [
    {
     "data": {
      "text/plain": [
       "array([0, 0, 0, ..., 0, 0, 0], dtype=int64)"
      ]
     },
     "execution_count": 66,
     "metadata": {},
     "output_type": "execute_result"
    }
   ],
   "source": [
    "y_pred4= naive.predict(X_test)\n",
    "y_pred4"
   ]
  },
  {
   "cell_type": "markdown",
   "metadata": {},
   "source": [
    "## abuse"
   ]
  },
  {
   "cell_type": "code",
   "execution_count": 67,
   "metadata": {},
   "outputs": [],
   "source": [
    "y=df['abuse']"
   ]
  },
  {
   "cell_type": "code",
   "execution_count": 68,
   "metadata": {},
   "outputs": [
    {
     "data": {
      "text/plain": [
       "array([0, 0, 0, ..., 0, 0, 0], dtype=int64)"
      ]
     },
     "execution_count": 68,
     "metadata": {},
     "output_type": "execute_result"
    }
   ],
   "source": [
    "y_pred5 = naive.predict(X_test)\n",
    "y_pred5"
   ]
  },
  {
   "cell_type": "markdown",
   "metadata": {},
   "source": [
    "## loathe"
   ]
  },
  {
   "cell_type": "code",
   "execution_count": 69,
   "metadata": {},
   "outputs": [],
   "source": [
    "y=df['loathe']"
   ]
  },
  {
   "cell_type": "code",
   "execution_count": 70,
   "metadata": {},
   "outputs": [
    {
     "data": {
      "text/plain": [
       "array([0, 0, 0, ..., 0, 0, 0], dtype=int64)"
      ]
     },
     "execution_count": 70,
     "metadata": {},
     "output_type": "execute_result"
    }
   ],
   "source": [
    "y_pred6 = naive.predict(X_test)\n",
    "y_pred6"
   ]
  },
  {
   "cell_type": "code",
   "execution_count": 58,
   "metadata": {},
   "outputs": [
    {
     "data": {
      "text/plain": [
       "Index(['id', 'comment_text', 'malignant', 'highly_malignant', 'rude', 'threat',\n",
       "       'abuse', 'loathe', 'cleaned_comments'],\n",
       "      dtype='object')"
      ]
     },
     "execution_count": 58,
     "metadata": {},
     "output_type": "execute_result"
    }
   ],
   "source": [
    "df.columns"
   ]
  },
  {
   "cell_type": "code",
   "execution_count": null,
   "metadata": {},
   "outputs": [],
   "source": []
  }
 ],
 "metadata": {
  "kernelspec": {
   "display_name": "Python 3",
   "language": "python",
   "name": "python3"
  },
  "language_info": {
   "codemirror_mode": {
    "name": "ipython",
    "version": 3
   },
   "file_extension": ".py",
   "mimetype": "text/x-python",
   "name": "python",
   "nbconvert_exporter": "python",
   "pygments_lexer": "ipython3",
   "version": "3.7.4"
  }
 },
 "nbformat": 4,
 "nbformat_minor": 2
}
